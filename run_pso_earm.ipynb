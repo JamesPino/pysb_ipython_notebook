{
 "metadata": {
  "name": "run_pso_earm"
 },
 "nbformat": 3,
 "nbformat_minor": 0,
 "worksheets": [
  {
   "cells": [
    {
     "cell_type": "code",
     "collapsed": false,
     "input": "import operator\nimport random\nimport scipy.optimize\nimport numpy\nimport pylab\nfrom deap import base\nfrom deap import creator\nfrom deap import tools\nimport pysb.integrate\nimport pysb.util\nimport numpy as np\n%matplotlib inline\nimport matplotlib.pyplot as plt\nimport os\nimport inspect\nimport multiprocessing\nimport multiprocessing as mp\nfrom earm.lopez_embedded import model",
     "language": "python",
     "metadata": {},
     "outputs": [],
     "prompt_number": 110
    },
    {
     "cell_type": "code",
     "collapsed": false,
     "input": "obs_names = ['mBid', 'aSmac', 'cPARP']\ndata_filename = '/home/pinojc/git/earm/earm/experimental_data.npy'\nydata_norm = numpy.load(data_filename)\nexp_var = 0.2\ntspan = np.linspace(0,5.5 * 3600,len(ydata_norm)*10)  # 5.5 hours, in seconds",
     "language": "python",
     "metadata": {},
     "outputs": [],
     "prompt_number": 111
    },
    {
     "cell_type": "code",
     "collapsed": false,
     "input": "rate_params = model.parameters_rules()\nparam_values = np.array([p.value for p in model.parameters])\nrate_mask = np.array([p in rate_params for p in model.parameters])\n# Build a boolean mask for those params against the entire param list\nk_ids = [p.value for p in model.parameters_rules()]",
     "language": "python",
     "metadata": {},
     "outputs": [],
     "prompt_number": 112
    },
    {
     "cell_type": "code",
     "collapsed": false,
     "input": "solver = pysb.integrate.Solver(model, tspan, integrator='vode',rtol=1e-8, atol=1e-8)",
     "language": "python",
     "metadata": {},
     "outputs": [],
     "prompt_number": 113
    },
    {
     "cell_type": "code",
     "collapsed": false,
     "input": "def likelihood(x):\n\n    Y=np.copy(x)\n    param_values[rate_mask] = 10 ** Y\n    solver.run(param_values)\n    ysim_array = extract_records(solver.yobs, obs_names)\n    ysim_norm = normalize(ysim_array)\n    err = numpy.sum((ydata_norm - ysim_norm[::10]) ** 2 / (2 * exp_var ** 2))\n    return err,",
     "language": "python",
     "metadata": {},
     "outputs": [],
     "prompt_number": 114
    },
    {
     "cell_type": "markdown",
     "metadata": {},
     "source": "The experimental data is normalized from [0,1] so we define a function that will normalized our simulated trajectories. We also define a function to extract the obserables from the simulations."
    },
    {
     "cell_type": "code",
     "collapsed": false,
     "input": "def normalize(trajectories):\n    \"\"\"Rescale a matrix of model trajectories to 0-1\"\"\"\n    ymin = trajectories.min(0)\n    ymax = trajectories.max(0)\n    return (trajectories - ymin) / (ymax - ymin)\n\ndef extract_records(recarray, names):\n    \"\"\"Convert a record-type array and list of names into a float array\"\"\"\n    return numpy.vstack([recarray[name] for name in names]).T",
     "language": "python",
     "metadata": {},
     "outputs": [],
     "prompt_number": 115
    },
    {
     "cell_type": "markdown",
     "metadata": {},
     "source": "To start the optimization we will use values that were used to create the model. We will search parameter space in log space and set upper and lower bounds to 1 order of magnitude up and down."
    },
    {
     "cell_type": "code",
     "collapsed": false,
     "input": "nominal_values = np.array([p.value for p in model.parameters])\nxnominal = np.log10(nominal_values[rate_mask])\nbounds_radius = 1\nlb = xnominal - bounds_radius\nub = xnominal + bounds_radius",
     "language": "python",
     "metadata": {},
     "outputs": [],
     "prompt_number": 116
    },
    {
     "cell_type": "markdown",
     "metadata": {},
     "source": "To use the particle swarm algorithm we need to first generate a population and define an update function. Below is a basic example of the general PSO modified from Deap."
    },
    {
     "cell_type": "code",
     "collapsed": false,
     "input": "\ndef generate(size, speedmin, speedmax):\n    \n    random_pertubation = (random.uniform(-1., 1.) for _ in range(size))\n    start_position = map(operator.add,np.log10(k_ids),random_pertubation)\n    part = creator.Particle(start_position)\n    part.speed = [random.uniform(speedmin, speedmax) for _ in range(size)]\n    part.smin = speedmin\n    part.smax = speedmax\n    return part\n\ndef updateParticle(particle_position, best, phi1, phi2):\n\n    u1 = (random.uniform(0, phi1) for _ in range(len(particle_position)))\n    u2 = (random.uniform(0, phi2) for _ in range(len(particle_position)))\n    v_u1 = map(operator.mul, u1, map(operator.sub, particle_position.best, particle_position))\n    v_u2 = map(operator.mul, u2, map(operator.sub, best, particle_position))\n    part.speed = list(map(operator.add, part.speed, map(operator.add, v_u1, v_u2)))\n    for i, speed in enumerate(particle_position.speed):\n        if speed < particle_position.smin:\n            particle_position.speed[i] = particle_position.smin\n        elif speed > particle_position.smax:\n            particle_position.speed[i] =  part.smax\n    part[:] = list(map(operator.add, particle_position, particle_position.speed))\n    for i, pos in enumerate(particle_position):\n        if pos < lb[i]:\n            part[i] = lb[i]\n        elif pos > ub[i]:\n            part[i] =  ub[i]\n",
     "language": "python",
     "metadata": {},
     "outputs": [],
     "prompt_number": 117
    },
    {
     "cell_type": "markdown",
     "metadata": {},
     "source": "Now we use Deap to create the optimization protocol. "
    },
    {
     "cell_type": "code",
     "collapsed": false,
     "input": "toolbox = base.Toolbox()\ncreator.create(\"FitnessMin\", base.Fitness,weights=(-1.00,))\ncreator.create(\"Particle\", list, fitness=creator.FitnessMin, \\\n    speed=list,smin=list, smax=list, best=None)\ntoolbox.register(\"particle\", generate, size=np.shape(rate_params)[0],\\\n                 speedmin=-.1,speedmax=.1)\ntoolbox.register(\"population\", tools.initRepeat, list, toolbox.particle)\ntoolbox.register(\"update\", updateParticle, phi1=2, phi2=2)\ntoolbox.register(\"evaluate\", likelihood)",
     "language": "python",
     "metadata": {},
     "outputs": [],
     "prompt_number": 118
    },
    {
     "cell_type": "markdown",
     "metadata": {},
     "source": "Deap also has tools to keep track of some statistics."
    },
    {
     "cell_type": "code",
     "collapsed": false,
     "input": "stats = tools.Statistics(lambda ind: ind.fitness.values)\nstats.register(\"avg\", numpy.mean)\nstats.register(\"std\", numpy.std)\nstats.register(\"min\", numpy.min)\nstats.register(\"max\", numpy.max)\nlogbook = tools.Logbook()\nlogbook.header = [\"gen\", \"evals\"] + stats.fields",
     "language": "python",
     "metadata": {},
     "outputs": [],
     "prompt_number": 119
    },
    {
     "cell_type": "markdown",
     "metadata": {},
     "source": "Here we create a function to display a given parameter set to the experimental data."
    },
    {
     "cell_type": "code",
     "collapsed": false,
     "input": "def display(x):\n    Y=np.copy(x)\n    param_values = np.array([p.value for p in model.parameters])\n    rate_mask = np.array([p in rate_params for p in model.parameters])\n    param_values[rate_mask] = 10 ** Y\n    solver.run(param_values)\n    ysim_array = extract_records(solver.yobs, obs_names)\n    ysim_norm = normalize(ysim_array)\n    count=1\n    plt.figure(figsize=(8,6),dpi=200)\n    for j,obs_name in enumerate(obs_names):\n      plt.subplot(3,1,count)\n      plt.plot(solver.tspan,ysim_norm[:,j])\n      plt.plot(solver.tspan[::10],ydata_norm[:,j],'-x')\n      plt.title(str(obs_name))\n      count+=1\n    plt.ylabel('concentration')\n    plt.xlabel('time (s)')\n    plt.tight_layout(pad=0.4, w_pad=0.5, h_pad=1.0)\n    plt.show()",
     "language": "python",
     "metadata": {},
     "outputs": [],
     "prompt_number": 120
    },
    {
     "cell_type": "markdown",
     "metadata": {},
     "source": "This example uses parallel computing so we must tell all processers the information we need which is a list of the parameters for each iteration and a dictonary to hold the results. This way we send the largest part of data to each processor once. This way we can send the processor a key and its places the result into a dictonary. This can be done others but this is a just a quick example."
    },
    {
     "cell_type": "code",
     "collapsed": false,
     "input": "def init(sample,dictionary):\n    global Sample\n    global Dictionary\n    Sample,Dictionary = sample,dictionary",
     "language": "python",
     "metadata": {},
     "outputs": [],
     "prompt_number": 121
    },
    {
     "cell_type": "code",
     "collapsed": false,
     "input": "def OBJ(block):\n    #print block\n    obj_values[block]=likelihood(sample[block])",
     "language": "python",
     "metadata": {},
     "outputs": [],
     "prompt_number": 122
    },
    {
     "cell_type": "markdown",
     "metadata": {},
     "source": "Finally, the main call of the function. "
    },
    {
     "cell_type": "code",
     "collapsed": false,
     "input": "if __name__ == '__main__':\n    print \"Model with rate parameters from literature\"\n    display(xnominal)\n    GEN = 100\n    num_particles = 50\n    pop = toolbox.population(n=num_particles)\n    best = creator.Particle(xnominal)\n    best.fitness.values = likelihood(xnominal)\n    best_values =[]\n    evals = []\n    print logbook.header\n    for g in range(1,GEN+1):\n        m = mp.Manager()\n        obj_values = m.dict()\n        sample = []\n        for p in pop:\n            sample.append(p)\n        p = mp.Pool(4,initializer = init, initargs=(sample,obj_values))\n        allblocks =range(len(pop))\n        p.imap_unordered(OBJ,allblocks)\n        p.close()\n        p.join()\n        count=0\n        \n        for part in pop:\n            part.fitness.values = obj_values[count]\n            count+=1\n            if g == 1:\n                part.best = creator.Particle(part)\n                part.best.fitness.values = part.fitness.values\n            elif part.best.fitness < part.fitness:\n                part.best = creator.Particle(part)\n                part.best.fitness.values = part.fitness.values\n            if best.fitness < part.fitness:\n                best = creator.Particle(part)\n                best.fitness.values = part.fitness.values\n        for part in pop:\n            toolbox.update(part, best)\n \n        logbook.record(gen=g, evals=len(pop), **stats.compile(pop))\n        print(logbook.stream),best.fitness.values\n        best_values.append(best.fitness.values)\n        evals.append(g*num_particles)\n    \n    \n    display(best)\n    plt.semilogy(evals,best_values)\n",
     "language": "python",
     "metadata": {},
     "outputs": [
      {
       "output_type": "stream",
       "stream": "stdout",
       "text": "Model with rate parameters from literature\n"
      },
      {
       "metadata": {},
       "output_type": "display_data",
       "png": "[encoded data removed]",
       "text": "<matplotlib.figure.Figure at 0x7f2bc41e3ad0>"
      },
      {
       "output_type": "stream",
       "stream": "stdout",
       "text": "['gen', 'evals', 'avg', 'std', 'min', 'max']\n"
      },
      {
       "output_type": "stream",
       "stream": "stdout",
       "text": "gen\tevals\tavg    \tstd    \tmin    \tmax    \n1  \t50   \t742.951\t366.535\t84.0364\t1421.18 (84.036425198305494,)\n"
      },
      {
       "output_type": "stream",
       "stream": "stdout",
       "text": "2  \t50   \t705.899\t378.642\t62.166 \t1394.56 (62.166028784675532,)\n"
      },
      {
       "output_type": "stream",
       "stream": "stdout",
       "text": "3  \t50   \t658.981\t386.996\t54.6732\t1359.11 (54.673155250020827,)\n"
      },
      {
       "output_type": "stream",
       "stream": "stdout",
       "text": "4  \t50   \t626.866\t373.081\t50.719 \t1333.72 (50.719045371273452,)\n"
      },
      {
       "output_type": "stream",
       "stream": "stdout",
       "text": "5  \t50   \t599.057\t356.032\t54.0023\t1270.07 (50.719045371273452,)\n"
      },
      {
       "output_type": "stream",
       "stream": "stdout",
       "text": "6  \t50   \t536.858\t332.873\t31.0943\t1187.06 (31.094311927765961,)\n"
      },
      {
       "output_type": "stream",
       "stream": "stdout",
       "text": "7  \t50   \t481.159\t295.664\t33.6935\t1090.76 (31.094311927765961,)\n"
      },
      {
       "output_type": "stream",
       "stream": "stdout",
       "text": "8  \t50   \t418.103\t263.273\t34.9992\t1014.81 (31.094311927765961,)\n"
      },
      {
       "output_type": "stream",
       "stream": "stdout",
       "text": "9  \t50   \t360.237\t234.124\t40.9727\t945.35  (31.094311927765961,)\n"
      },
      {
       "output_type": "stream",
       "stream": "stdout",
       "text": "10 \t50   \t311.334\t205.728\t26.5168\t849.782 (26.516805427402403,)\n"
      },
      {
       "output_type": "stream",
       "stream": "stdout",
       "text": "11 \t50   \t259.968\t181.837\t34.4358\t761.43  (26.516805427402403,)\n"
      },
      {
       "output_type": "stream",
       "stream": "stdout",
       "text": "12 \t50   \t193.721\t155.437\t27.0853\t716.951 (26.516805427402403,)\n"
      },
      {
       "output_type": "stream",
       "stream": "stdout",
       "text": "13 \t50   \t131.417\t134.265\t24.2073\t702.851 (24.207267078086321,)\n"
      },
      {
       "output_type": "stream",
       "stream": "stdout",
       "text": "14 \t50   \t92.8464\t113.805\t22.745 \t712.39  (22.744972550506549,)\n"
      },
      {
       "output_type": "stream",
       "stream": "stdout",
       "text": "15 \t50   \t92.1735\t104.275\t28.6927\t695.452 (22.744972550506549,)\n"
      },
      {
       "output_type": "stream",
       "stream": "stdout",
       "text": "16 \t50   \t79.9295\t82.3777\t20.9021\t535.475 (20.902092855490189,)\n"
      },
      {
       "output_type": "stream",
       "stream": "stdout",
       "text": "17 \t50   \t70.7902\t76.0781\t19.8333\t479.514 (19.833311958152521,)\n"
      },
      {
       "output_type": "stream",
       "stream": "stdout",
       "text": "18 \t50   \t61.1071\t67.2099\t19.1829\t445.073 (19.182924745495537,)\n"
      },
      {
       "output_type": "stream",
       "stream": "stdout",
       "text": "19 \t50   \t53.3352\t62.7478\t17.612 \t362.017 (17.611993055504769,)\n"
      },
      {
       "output_type": "stream",
       "stream": "stdout",
       "text": "20 \t50   \t55.0686\t46.2017\t17.6701\t282.47  (17.611993055504769,)\n"
      },
      {
       "output_type": "stream",
       "stream": "stdout",
       "text": "21 \t50   \t44.453 \t35.7018\t15.9747\t198.502 (15.974745660351955,)\n"
      },
      {
       "output_type": "stream",
       "stream": "stdout",
       "text": "22 \t50   \t51.7481\t33.9069\t15.4522\t162.913 (15.4521801921404,)\n"
      },
      {
       "output_type": "stream",
       "stream": "stdout",
       "text": "23 \t50   \t43.0882\t27.6897\t14.3945\t115.203 (14.394531626758022,)\n"
      },
      {
       "output_type": "stream",
       "stream": "stdout",
       "text": "24 \t50   \t47.6936\t38.1081\t14.55  \t161.624 (14.394531626758022,)\n"
      },
      {
       "output_type": "stream",
       "stream": "stdout",
       "text": "25 \t50   \t42.937 \t27.7873\t15.2146\t136.536 (14.394531626758022,)\n"
      },
      {
       "output_type": "stream",
       "stream": "stdout",
       "text": "26 \t50   \t38.1412\t32.7225\t14.7125\t198.204 (14.394531626758022,)\n"
      },
      {
       "output_type": "stream",
       "stream": "stdout",
       "text": "27 \t50   \t48.2586\t32.7757\t14.7136\t180.83  (14.394531626758022,)\n"
      },
      {
       "output_type": "stream",
       "stream": "stdout",
       "text": "28 \t50   \t36.6073\t31.8249\t13.5362\t172.946 (13.536167438877934,)\n"
      },
      {
       "output_type": "stream",
       "stream": "stdout",
       "text": "29 \t50   \t41.9529\t32.2795\t13.9357\t143.17  (13.536167438877934,)\n"
      },
      {
       "output_type": "stream",
       "stream": "stdout",
       "text": "30 \t50   \t36.3298\t24.3824\t13.6061\t113.799 (13.536167438877934,)\n"
      },
      {
       "output_type": "stream",
       "stream": "stdout",
       "text": "31 \t50   \t56.2498\t48.0113\t14.3007\t199.584 (13.536167438877934,)\n"
      },
      {
       "output_type": "stream",
       "stream": "stdout",
       "text": "32 \t50   \t49.0256\t43.6056\t14.0001\t248.512 (13.536167438877934,)\n"
      },
      {
       "output_type": "stream",
       "stream": "stdout",
       "text": "33 \t50   \t36.0175\t30.9173\t12.496 \t164.383 (12.495956729789459,)\n"
      },
      {
       "output_type": "stream",
       "stream": "stdout",
       "text": "34 \t50   \t43.1934\t37.1604\t12.9518\t216.321 (12.495956729789459,)\n"
      },
      {
       "output_type": "stream",
       "stream": "stdout",
       "text": "35 \t50   \t35.0903\t32.1712\t12.2967\t185.668 (12.296729983440564,)\n"
      },
      {
       "output_type": "stream",
       "stream": "stdout",
       "text": "36 \t50   \t37.5874\t27.7241\t11.5333\t117.324 (11.533341120818012,)\n"
      },
      {
       "output_type": "stream",
       "stream": "stdout",
       "text": "37 \t50   \t42.6975\t33.4247\t11.9493\t134.935 (11.533341120818012,)\n"
      },
      {
       "output_type": "stream",
       "stream": "stdout",
       "text": "38 \t50   \t35.7634\t34.6217\t11.6359\t172.696 (11.533341120818012,)\n"
      },
      {
       "output_type": "stream",
       "stream": "stdout",
       "text": "39 \t50   \t43.9148\t37.5712\t12.1129\t168.278 (11.533341120818012,)\n"
      },
      {
       "output_type": "stream",
       "stream": "stdout",
       "text": "40 \t50   \t34.4357\t24.5517\t11.9112\t132.817 (11.533341120818012,)\n"
      },
      {
       "output_type": "stream",
       "stream": "stdout",
       "text": "41 \t50   \t42.5988\t36.7946\t11.508 \t139.692 (11.507956068635158,)\n"
      },
      {
       "output_type": "stream",
       "stream": "stdout",
       "text": "42 \t50   \t47.7658\t44.0477\t11.9482\t230.97  (11.507956068635158,)\n"
      },
      {
       "output_type": "stream",
       "stream": "stdout",
       "text": "43 \t50   \t40.1931\t34.6282\t12.4952\t178.065 (11.507956068635158,)\n"
      },
      {
       "output_type": "stream",
       "stream": "stdout",
       "text": "44 \t50   \t46.4326\t41.1634\t11.0403\t194.552 (11.040267070809836,)\n"
      },
      {
       "output_type": "stream",
       "stream": "stdout",
       "text": "45 \t50   \t48.7886\t43.227 \t11.7484\t234.697 (11.040267070809836,)\n"
      },
      {
       "output_type": "stream",
       "stream": "stdout",
       "text": "46 \t50   \t39.4466\t28.3542\t10.3971\t120.619 (10.397068693411281,)\n"
      },
      {
       "output_type": "stream",
       "stream": "stdout",
       "text": "47 \t50   \t45.703 \t45.1588\t10.8874\t258.583 (10.397068693411281,)\n"
      },
      {
       "output_type": "stream",
       "stream": "stdout",
       "text": "48 \t50   \t42.8429\t37.0799\t10.9786\t167.461 (10.397068693411281,)\n"
      },
      {
       "output_type": "stream",
       "stream": "stdout",
       "text": "49 \t50   \t37.2563\t29.9787\t9.82406\t127.65  (9.8240578764630939,)\n"
      },
      {
       "output_type": "stream",
       "stream": "stdout",
       "text": "50 \t50   \t42.0476\t37.4148\t9.76877\t155.165 (9.7687733586488683,)\n"
      },
      {
       "output_type": "stream",
       "stream": "stdout",
       "text": "51 \t50   \t41.9346\t30.8132\t10.8687\t130.832 (9.7687733586488683,)\n"
      },
      {
       "output_type": "stream",
       "stream": "stdout",
       "text": "52 \t50   \t51.4157\t53.4808\t10.5597\t251.511 (9.7687733586488683,)\n"
      },
      {
       "output_type": "stream",
       "stream": "stdout",
       "text": "53 \t50   \t36.8983\t33.8156\t9.89235\t186.77  (9.7687733586488683,)\n"
      },
      {
       "output_type": "stream",
       "stream": "stdout",
       "text": "54 \t50   \t37.2506\t41.3339\t10.573 \t254.576 (9.7687733586488683,)\n"
      },
      {
       "output_type": "stream",
       "stream": "stdout",
       "text": "55 \t50   \t48.3755\t46.4659\t9.59473\t209.094 (9.5947281346850541,)\n"
      },
      {
       "output_type": "stream",
       "stream": "stdout",
       "text": "56 \t50   \t35.6365\t29.1981\t9.36293\t163.812 (9.362925077201357,)\n"
      },
      {
       "output_type": "stream",
       "stream": "stdout",
       "text": "57 \t50   \t42.4384\t41.2275\t10.0167\t210.95  (9.362925077201357,)\n"
      },
      {
       "output_type": "stream",
       "stream": "stdout",
       "text": "58 \t50   \t38.0305\t32.8513\t9.33123\t155.655 (9.3312311074301011,)\n"
      },
      {
       "output_type": "stream",
       "stream": "stdout",
       "text": "59 \t50   \t41.1148\t34.0509\t8.53302\t186.415 (8.5330163352744215,)\n"
      },
      {
       "output_type": "stream",
       "stream": "stdout",
       "text": "60 \t50   \t40.7748\t37.4014\t8.65532\t173.688 (8.5330163352744215,)\n"
      },
      {
       "output_type": "stream",
       "stream": "stdout",
       "text": "61 \t50   \t37.9223\t24.1542\t9.49883\t105.759 (8.5330163352744215,)\n"
      },
      {
       "output_type": "stream",
       "stream": "stdout",
       "text": "62 \t50   \t37.6598\t39.8116\t8.67155\t218.76  (8.5330163352744215,)\n"
      },
      {
       "output_type": "stream",
       "stream": "stdout",
       "text": "63 \t50   \t42.5995\t40.4758\t9.83327\t261.664 (8.5330163352744215,)\n"
      },
      {
       "output_type": "stream",
       "stream": "stdout",
       "text": "64 \t50   \t35.5424\t31.7745\t9.17296\t156.108 (8.5330163352744215,)\n"
      },
      {
       "output_type": "stream",
       "stream": "stdout",
       "text": "65 \t50   \t33.9829\t30.9282\t8.80141\t188.48  (8.5330163352744215,)\n"
      },
      {
       "output_type": "stream",
       "stream": "stdout",
       "text": "66 \t50   \t37.4401\t39.8607\t8.26565\t178.373 (8.2656549515708342,)\n"
      },
      {
       "output_type": "stream",
       "stream": "stdout",
       "text": "67 \t50   \t34.2368\t32.8045\t8.15858\t164.083 (8.1585849296942889,)\n"
      },
      {
       "output_type": "stream",
       "stream": "stdout",
       "text": "68 \t50   \t27.8636\t24.0018\t9.02778\t121.83  (8.1585849296942889,)\n"
      },
      {
       "output_type": "stream",
       "stream": "stdout",
       "text": "69 \t50   \t30.6146\t33.87  \t8.58097\t227.848 (8.1585849296942889,)\n"
      },
      {
       "output_type": "stream",
       "stream": "stdout",
       "text": "70 \t50   \t35.6363\t35.1534\t9.30545\t202.197 (8.1585849296942889,)\n"
      },
      {
       "output_type": "stream",
       "stream": "stdout",
       "text": "71 \t50   \t41.4506\t35.1634\t8.5151 \t170.552 (8.1585849296942889,)\n"
      },
      {
       "output_type": "stream",
       "stream": "stdout",
       "text": "72 \t50   \t35.0329\t29.8477\t7.87942\t114.653 (7.8794193276536255,)\n"
      },
      {
       "output_type": "stream",
       "stream": "stdout",
       "text": "73 \t50   \t35.7632\t35.4413\t8.25259\t170.894 (7.8794193276536255,)\n"
      },
      {
       "output_type": "stream",
       "stream": "stdout",
       "text": "74 \t50   \t24.2909\t16.9774\t7.79721\t103.84  (7.7972056545459676,)\n"
      },
      {
       "output_type": "stream",
       "stream": "stdout",
       "text": "75 \t50   \t40.9571\t34.3221\t8.26739\t128.387 (7.7972056545459676,)\n"
      },
      {
       "output_type": "stream",
       "stream": "stdout",
       "text": "76 \t50   \t31.1758\t27.5611\t7.50316\t115.185 (7.5031566199530557,)\n"
      },
      {
       "output_type": "stream",
       "stream": "stdout",
       "text": "77 \t50   \t35.6546\t32.6368\t7.10796\t122.856 (7.1079612070230125,)\n"
      },
      {
       "output_type": "stream",
       "stream": "stdout",
       "text": "78 \t50   \t39.0784\t37.3381\t7.95887\t182.387 (7.1079612070230125,)\n"
      },
      {
       "output_type": "stream",
       "stream": "stdout",
       "text": "79 \t50   \t42.5669\t36.8383\t8.49118\t173.994 (7.1079612070230125,)\n"
      },
      {
       "output_type": "stream",
       "stream": "stdout",
       "text": "80 \t50   \t42.7825\t39.4891\t8.25905\t189.811 (7.1079612070230125,)\n"
      },
      {
       "output_type": "stream",
       "stream": "stdout",
       "text": "81 \t50   \t41.4194\t38.8753\t7.52806\t210.208 (7.1079612070230125,)\n"
      },
      {
       "output_type": "stream",
       "stream": "stdout",
       "text": "82 \t50   \t40.1351\t32.3131\t8.21982\t125.476 (7.1079612070230125,)\n"
      },
      {
       "output_type": "stream",
       "stream": "stdout",
       "text": "83 \t50   \t37.6563\t31.4652\t7.72447\t129.245 (7.1079612070230125,)\n"
      },
      {
       "output_type": "stream",
       "stream": "stdout",
       "text": "84 \t50   \t45.5991\t34.5369\t7.39195\t159.293 (7.1079612070230125,)\n"
      },
      {
       "output_type": "stream",
       "stream": "stdout",
       "text": "85 \t50   \t46.7013\t40.5425\t7.81779\t167.859 (7.1079612070230125,)\n"
      },
      {
       "output_type": "stream",
       "stream": "stdout",
       "text": "86 \t50   \t39.467 \t34.5741\t7.05128\t134.064 (7.051278247901581,)\n"
      },
      {
       "output_type": "stream",
       "stream": "stdout",
       "text": "87 \t50   \t46.9959\t38.837 \t7.12671\t142.973 (7.051278247901581,)\n"
      },
      {
       "output_type": "stream",
       "stream": "stdout",
       "text": "88 \t50   \t38.5195\t28.8334\t8.42874\t140.253 (7.051278247901581,)\n"
      },
      {
       "output_type": "stream",
       "stream": "stdout",
       "text": "89 \t50   \t47.7542\t38.5897\t6.17251\t163.616 (6.1725112423965873,)\n"
      },
      {
       "output_type": "stream",
       "stream": "stdout",
       "text": "90 \t50   \t42.4482\t35.827 \t6.87564\t138.027 (6.1725112423965873,)\n"
      },
      {
       "output_type": "stream",
       "stream": "stdout",
       "text": "91 \t50   \t41.7122\t35.4562\t6.71005\t151.134 (6.1725112423965873,)\n"
      },
      {
       "output_type": "stream",
       "stream": "stdout",
       "text": "92 \t50   \t38.678 \t37.7508\t7.4965 \t178.537 (6.1725112423965873,)\n"
      },
      {
       "output_type": "stream",
       "stream": "stdout",
       "text": "93 \t50   \t41.724 \t35.705 \t6.16452\t142.644 (6.1645158857522331,)\n"
      },
      {
       "output_type": "stream",
       "stream": "stdout",
       "text": "94 \t50   \t42.316 \t39.9674\t5.82241\t182.341 (5.8224098581297277,)\n"
      },
      {
       "output_type": "stream",
       "stream": "stdout",
       "text": "95 \t50   \t46.4749\t37.3582\t7.60424\t146.606 (5.8224098581297277,)\n"
      },
      {
       "output_type": "stream",
       "stream": "stdout",
       "text": "96 \t50   \t39.4857\t33.0738\t6.0938 \t127.178 (5.8224098581297277,)\n"
      },
      {
       "output_type": "stream",
       "stream": "stdout",
       "text": "97 \t50   \t34.5733\t28.5338\t6.10486\t114.49  (5.8224098581297277,)\n"
      },
      {
       "output_type": "stream",
       "stream": "stdout",
       "text": "98 \t50   \t41.0986\t40.703 \t5.82831\t212.293 (5.8224098581297277,)\n"
      },
      {
       "output_type": "stream",
       "stream": "stdout",
       "text": "99 \t50   \t40.7405\t39.7336\t6.10985\t167.404 (5.8224098581297277,)\n"
      },
      {
       "output_type": "stream",
       "stream": "stdout",
       "text": "100\t50   \t33.0292\t26.2371\t5.64233\t117.304 (5.6423335034411002,)\n"
      },
      {
       "metadata": {},
       "output_type": "display_data",
       "png": "[encoded data removed]",
       "text": "<matplotlib.figure.Figure at 0x7f2b18cb8f10>"
      },
      {
       "metadata": {},
       "output_type": "display_data",
       "png": "[encoded data removed]",
       "text": "<matplotlib.figure.Figure at 0x7f2b18c20bd0>"
      }
     ],
     "prompt_number": 123
    },
    {
     "cell_type": "code",
     "collapsed": false,
     "input": "",
     "language": "python",
     "metadata": {},
     "outputs": [],
     "prompt_number": 123
    }
   ],
   "metadata": {}
  }
 ]
}